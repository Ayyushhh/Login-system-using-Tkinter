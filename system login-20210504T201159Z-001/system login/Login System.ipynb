{
 "cells": [
  {
   "cell_type": "markdown",
   "metadata": {},
   "source": [
    "##  list of tuples declaration"
   ]
  },
  {
   "cell_type": "code",
   "execution_count": 1,
   "metadata": {},
   "outputs": [],
   "source": [
    "dict_user = [('ayushj820@gmail.com', 'ayushjain')]"
   ]
  },
  {
   "cell_type": "markdown",
   "metadata": {},
   "source": [
    "## Asking user for username  and password if answer is yes"
   ]
  },
  {
   "cell_type": "code",
   "execution_count": 2,
   "metadata": {},
   "outputs": [],
   "source": [
    "def input_password():\n",
    "    Password = input('Enter your password: ')\n",
    "    return Password"
   ]
  },
  {
   "cell_type": "code",
   "execution_count": 3,
   "metadata": {},
   "outputs": [],
   "source": [
    "def input_user():\n",
    "    Username = input('Enter the Username: ')\n",
    "    return Username"
   ]
  },
  {
   "cell_type": "markdown",
   "metadata": {},
   "source": [
    "## Printing invalid statement"
   ]
  },
  {
   "cell_type": "code",
   "execution_count": 4,
   "metadata": {},
   "outputs": [],
   "source": [
    "def printing_invalid(invalid):\n",
    "    print(\"Invalid {}\".format(invalid))"
   ]
  },
  {
   "cell_type": "markdown",
   "metadata": {},
   "source": [
    "# Checking user details in dictionary"
   ]
  },
  {
   "cell_type": "code",
   "execution_count": 5,
   "metadata": {},
   "outputs": [],
   "source": [
    "def checking_user(Username,Password,dict_user):\n",
    "    if (Username,Password) in dict_user:\n",
    "        print('valid')\n",
    "        return False\n",
    "    else:\n",
    "        print('invalid')\n",
    "        return True\n"
   ]
  },
  {
   "cell_type": "markdown",
   "metadata": {},
   "source": [
    "# Repeatedly asking for username and password if it is invalid - for YES "
   ]
  },
  {
   "cell_type": "code",
   "execution_count": 6,
   "metadata": {},
   "outputs": [],
   "source": [
    "def check(Username,Password,true_false,dict_user):\n",
    "    while true_false:\n",
    "        true_false = checking_user(Username,Password,dict_user)\n",
    "        if true_false:\n",
    "            Username = input_user()\n",
    "            Password = input_password()\n",
    "    "
   ]
  },
  {
   "cell_type": "markdown",
   "metadata": {},
   "source": [
    "# for checking password is in correct format"
   ]
  },
  {
   "cell_type": "code",
   "execution_count": 7,
   "metadata": {},
   "outputs": [],
   "source": [
    "def validation_password(create_username,create_password):\n",
    "    for x in create_password:\n",
    "        if not x.isalnum():\n",
    "            printing_invalid(create_password)\n",
    "            create_password = input_password()\n",
    "            validation_password(create_username,create_password)\n",
    "            return 0\n",
    "        continue\n",
    "    dict_user.append((create_username,create_password))\n",
    "    print(\"created\")\n"
   ]
  },
  {
   "cell_type": "markdown",
   "metadata": {},
   "source": [
    "# for checking username is in correct format and then calling validation password"
   ]
  },
  {
   "cell_type": "code",
   "execution_count": 8,
   "metadata": {},
   "outputs": [],
   "source": [
    "def validation_username(create_username):\n",
    "    if '@' in create_username:\n",
    "        list_validation_username = create_username.split('@')\n",
    "        if list_validation_username[0].isalnum():\n",
    "            create_password = input('Create your password')\n",
    "            validation_password(create_username,create_password)\n",
    "        else:\n",
    "            printing_invalid(create_username)\n",
    "            create_username = input_user()\n",
    "            validation_username(create_username)\n",
    "            \n",
    "    else:\n",
    "        printing_invalid(create_username)\n",
    "        create_username = input_user()\n",
    "        validation_username(create_username)\n",
    "        "
   ]
  },
  {
   "cell_type": "markdown",
   "metadata": {},
   "source": [
    "# Main Program "
   ]
  },
  {
   "cell_type": "code",
   "execution_count": 9,
   "metadata": {},
   "outputs": [],
   "source": [
    "def main_program():\n",
    "    yes_no = input('Do you already exist or not,press y/n: ')\n",
    "    yes_no = yes_no.lower()\n",
    "    true_false = True\n",
    "    if yes_no == 'y':\n",
    "        Username = input_user()\n",
    "        Password = input_password()\n",
    "        check(Username,Password,true_false,dict_user)\n",
    "    else : \n",
    "        create_username = input('Create you username: ')\n",
    "        validation_username(create_username)"
   ]
  },
  {
   "cell_type": "code",
   "execution_count": 12,
   "metadata": {},
   "outputs": [
    {
     "name": "stdout",
     "output_type": "stream",
     "text": [
      "Do you already exist or not,press y/n: ayushj820@gmail.com\n",
      "Create you username: ayushj820@gmail.com\n",
      "Create your passwordjain\n",
      "created\n"
     ]
    }
   ],
   "source": [
    "main_program()"
   ]
  },
  {
   "cell_type": "code",
   "execution_count": 14,
   "metadata": {},
   "outputs": [
    {
     "data": {
      "text/plain": [
       "[('ayushj820@gmail.com', 'ayushjain'), ('ayushj820@gmail.com', 'jain')]"
      ]
     },
     "execution_count": 14,
     "metadata": {},
     "output_type": "execute_result"
    }
   ],
   "source": [
    "dict_user"
   ]
  },
  {
   "cell_type": "code",
   "execution_count": 15,
   "metadata": {},
   "outputs": [],
   "source": [
    "from tkinter import *"
   ]
  },
  {
   "cell_type": "code",
   "execution_count": 18,
   "metadata": {},
   "outputs": [],
   "source": [
    "def main_screen():\n",
    "    screen = Tk()\n",
    "    screen.geometry(\"600x500\")\n",
    "    screen.title(\"Login System\")\n",
    "    Label(text = \"Login System\" , bg = \"grey\" ,width = \"600\", height= \"4\",font = (\"Calibri\",13)).pack()\n",
    "    Label(text = \"\").pack()\n",
    "    Button(text = \"Login\",height = \"3\" , width = \"40\").pack()\n",
    "    Label(text=\"\").pack()\n",
    "    Button(text= \"Register\" , height = \"3\" , width = \"40\").pack()\n",
    "    \n",
    "    screen.mainloop()\n",
    "    "
   ]
  },
  {
   "cell_type": "code",
   "execution_count": 19,
   "metadata": {},
   "outputs": [],
   "source": [
    "main_screen()"
   ]
  },
  {
   "cell_type": "code",
   "execution_count": null,
   "metadata": {},
   "outputs": [],
   "source": []
  }
 ],
 "metadata": {
  "kernelspec": {
   "display_name": "Python 3",
   "language": "python",
   "name": "python3"
  },
  "language_info": {
   "codemirror_mode": {
    "name": "ipython",
    "version": 3
   },
   "file_extension": ".py",
   "mimetype": "text/x-python",
   "name": "python",
   "nbconvert_exporter": "python",
   "pygments_lexer": "ipython3",
   "version": "3.6.9"
  }
 },
 "nbformat": 4,
 "nbformat_minor": 4
}
